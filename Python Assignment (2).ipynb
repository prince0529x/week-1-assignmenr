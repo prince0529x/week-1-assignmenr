{
 "cells": [
  {
   "cell_type": "markdown",
   "id": "1000bcb0-9008-45ce-b43b-3203ff0149f7",
   "metadata": {},
   "source": [
    "### Python Basics Questions"
   ]
  },
  {
   "cell_type": "raw",
   "id": "f28517ae-e01b-46d5-a1b5-4941b0e8cac3",
   "metadata": {},
   "source": [
    "1.What is Python, and why is it popular?\n",
    "Ans:\n",
    "Python is a high-level, interpreted programming language known for its simple syntax and\n",
    "readability.\n",
    "Popular because:\n",
    "- Easy to learn and write\n",
    "- Large standard library\n",
    "- Vast community support\n",
    "- Versatile (web, data science, AI, etc.)\n",
    "  "
   ]
  },
  {
   "cell_type": "raw",
   "id": "2d2c661d-3189-42bc-9ee9-95bc49f38e2d",
   "metadata": {},
   "source": [
    "2.What is an interpreter in Python?\n",
    "Ans:\n",
    "An interpreter is a program that reads and executes Python code line by line, converting it into\n",
    "machine-executable instructions at runtime.\n"
   ]
  },
  {
   "cell_type": "raw",
   "id": "95c01b7c-52fd-4b8a-a657-348668eef949",
   "metadata": {},
   "source": [
    "3.What are pre-defined keywords in Python?\n",
    "Ans:\n",
    "Pre-defined keywords are reserved words that have special meanings in Python's syntax (e.g., if,\n",
    "else, while, def, return)."
   ]
  },
  {
   "cell_type": "raw",
   "id": "147ce958-4602-41d4-8401-62b8cb64f25a",
   "metadata": {},
   "source": [
    "4.Can keywords be used as variable names?\n",
    "Ans:\n",
    "No, Python keywords cannot be used as variable names because they are reserved by the\n",
    "language for specific purposes."
   ]
  },
  {
   "cell_type": "raw",
   "id": "54899d0e-2d11-45ac-bf09-3f7bd002f29c",
   "metadata": {},
   "source": [
    "5.What is mutability in Python?\n",
    "Ans:\n",
    "Mutability refers to whether an object's value can be changed after it is created. Mutable objects can\n",
    "be changed; immutable objects cannot"
   ]
  },
  {
   "cell_type": "raw",
   "id": "7da0f661-0d48-42f4-847f-9dc9ab13f6e4",
   "metadata": {},
   "source": [
    "6.Why are lists mutable, but tuples are immutable?\n",
    "Ans:\n",
    "Lists are mutable to allow dynamic updates to collections of items.\n",
    "Tuples are immutable to ensure data integrity and enable use as dictionary keys or set elements."
   ]
  },
  {
   "cell_type": "raw",
   "id": "7b3bf84f-d384-4dfe-b502-2cd89fe7c044",
   "metadata": {},
   "source": [
    "7.What is the difference between == and is operators in Python?\n",
    "Ans:\n",
    "== checks value equality (do the values match?).\n",
    "is checks identity (are both references pointing to the same object in memory?)"
   ]
  },
  {
   "cell_type": "raw",
   "id": "6a8e3db4-d2e7-4a80-8363-69fdc0482b89",
   "metadata": {},
   "source": [
    "8.What are logical operators in Python?\n",
    "Ans:\n",
    "Logical operators are used to combine boolean expressions:\n",
    "- and: True if both are True\n",
    "- or: True if at least one is True\n",
    "- not: Inverts the boolean value"
   ]
  },
  {
   "cell_type": "raw",
   "id": "9f2ce318-b6d7-40c8-a4ae-4283476bd861",
   "metadata": {},
   "source": [
    "9.What is type casting in Python?\n",
    "Ans:\n",
    "Type casting is converting one data type into another, e.g., from int to float."
   ]
  },
  {
   "cell_type": "raw",
   "id": "41e7f869-7169-4e09-a958-3fe7970b362b",
   "metadata": {},
   "source": [
    "10.What is the difference between implicit and explicit type casting?\n",
    "Ans:\n",
    "Implicit: Done automatically by Python (e.g., int + float results in float).\n",
    "Explicit: Done manually using functions like int(), float(), str()"
   ]
  },
  {
   "cell_type": "raw",
   "id": "abce4cd8-f113-4860-bb24-c0010429755d",
   "metadata": {},
   "source": [
    "11.What is the purpose of conditional statements in Python?\n",
    "Ans:\n",
    "Conditional statements allow a program to make decisions and execute different blocks of code\n",
    "based on conditions (if, elif, else)."
   ]
  },
  {
   "cell_type": "raw",
   "id": "f9bf93f4-240f-4110-b9a6-cc96120d9bba",
   "metadata": {},
   "source": [
    "12.How does the elif statement work?\n",
    "Ans:\n",
    "elif (short for 'else if') checks a new condition if the previous if or elif was false. It allows multiple\n",
    "condition checks in sequence."
   ]
  },
  {
   "cell_type": "raw",
   "id": "70160590-50ad-45d6-aa50-234a0a9be392",
   "metadata": {},
   "source": [
    "13.What is the difference between for and while loops?\n",
    "Ans:\n",
    "for loop: Used when the number of iterations is known (e.g., looping over a list).\n",
    "while loop: Used when the loop continues until a condition becomes false (uncertain number of\n",
    "iterations)."
   ]
  },
  {
   "cell_type": "raw",
   "id": "f77f95ab-ca60-424a-80a7-db28b176b8be",
   "metadata": {},
   "source": [
    "14.Describe a scenario where a while loop is more suitable than a for loop.\n",
    "Ans:\n",
    "A while loop is better for user input validation:\n",
    "password = \"\"\n",
    "while password != \"admin123\":\n",
    " password = input(\"Enter password: \")"
   ]
  },
  {
   "cell_type": "markdown",
   "id": "608655cb-94d0-48b6-9ce5-32aa60ff0415",
   "metadata": {},
   "source": [
    "### Practical Questions"
   ]
  },
  {
   "cell_type": "code",
   "execution_count": null,
   "id": "eac86e07-9e07-48b7-b766-4b0b20285bb4",
   "metadata": {},
   "outputs": [],
   "source": [
    "#1.Write a Python program to print \"Hello, World!\"\n",
    "print(\"Hello World\")"
   ]
  },
  {
   "cell_type": "code",
   "execution_count": 7,
   "id": "5826f8f9-e546-4d3a-b83f-e90df4540b68",
   "metadata": {},
   "outputs": [
    {
     "name": "stdout",
     "output_type": "stream",
     "text": [
      "My name is Prince\n",
      "And My age is 21\n"
     ]
    }
   ],
   "source": [
    "#2.Write a Python program that displays your name and age.\n",
    "name=(\"Prince\")\n",
    "age=21\n",
    "print(\"My name is\",name)\n",
    "print(\"And My age is\",age)"
   ]
  },
  {
   "cell_type": "code",
   "execution_count": 8,
   "id": "29d9df2f-e4ab-4c9a-b629-e1bc2f2ee64f",
   "metadata": {},
   "outputs": [
    {
     "name": "stdout",
     "output_type": "stream",
     "text": [
      "\n",
      "Here is a list of the Python keywords.  Enter any keyword to get more help.\n",
      "\n",
      "False               class               from                or\n",
      "None                continue            global              pass\n",
      "True                def                 if                  raise\n",
      "and                 del                 import              return\n",
      "as                  elif                in                  try\n",
      "assert              else                is                  while\n",
      "async               except              lambda              with\n",
      "await               finally             nonlocal            yield\n",
      "break               for                 not                 \n",
      "\n"
     ]
    }
   ],
   "source": [
    "#3.Write code to print all the pre-defined keywords in Python using the keyword library\n",
    "help(\"keywords\")"
   ]
  },
  {
   "cell_type": "code",
   "execution_count": 9,
   "id": "c54bc3f5-a36f-4778-8449-637d5b42cd3e",
   "metadata": {},
   "outputs": [
    {
     "name": "stdout",
     "output_type": "stream",
     "text": [
      "The given word is a python keyword\n"
     ]
    }
   ],
   "source": [
    "#4.Write a program that checks if a given word is a Python keyword.\n",
    "word=True\n",
    "if word == True:\n",
    "    print(\"The given word is a python keyword\")\n"
   ]
  },
  {
   "cell_type": "code",
   "execution_count": 1,
   "id": "64dbf1ad-9914-46fb-aa5f-0b7caa069b4e",
   "metadata": {},
   "outputs": [],
   "source": [
    " #5 Create a list and tuple in Python, and demonstrate how attempting to change an element works differently for each.\n",
    "#1.list\n",
    "list=[1,2.6,4+7j,None,True,\"Prince\"]"
   ]
  },
  {
   "cell_type": "code",
   "execution_count": 2,
   "id": "c9ecd0c1-41f6-444b-90f6-d08d54e7111b",
   "metadata": {},
   "outputs": [
    {
     "data": {
      "text/plain": [
       "[1, 2.6, (4+7j), None, True, 'Prince']"
      ]
     },
     "execution_count": 2,
     "metadata": {},
     "output_type": "execute_result"
    }
   ],
   "source": [
    "list"
   ]
  },
  {
   "cell_type": "code",
   "execution_count": 3,
   "id": "056418f0-dadf-4c26-956b-9b708b11b34f",
   "metadata": {},
   "outputs": [],
   "source": [
    "list[0]=2.5 #convert integer to float"
   ]
  },
  {
   "cell_type": "code",
   "execution_count": 4,
   "id": "130285d7-3d13-43d2-9c6c-f80bf756d490",
   "metadata": {},
   "outputs": [
    {
     "data": {
      "text/plain": [
       "[2.5, 2.6, (4+7j), None, True, 'Prince']"
      ]
     },
     "execution_count": 4,
     "metadata": {},
     "output_type": "execute_result"
    }
   ],
   "source": [
    "list"
   ]
  },
  {
   "cell_type": "code",
   "execution_count": 5,
   "id": "4d6973a0-c61c-44e2-95c8-657fb925bc8f",
   "metadata": {},
   "outputs": [],
   "source": [
    "list[1]=5 #convert float to integer"
   ]
  },
  {
   "cell_type": "code",
   "execution_count": 6,
   "id": "b9e37d1f-5d24-481b-b29f-bbb45b637c25",
   "metadata": {},
   "outputs": [
    {
     "data": {
      "text/plain": [
       "[2.5, 5, (4+7j), None, True, 'Prince']"
      ]
     },
     "execution_count": 6,
     "metadata": {},
     "output_type": "execute_result"
    }
   ],
   "source": [
    "list"
   ]
  },
  {
   "cell_type": "code",
   "execution_count": 7,
   "id": "e10fd07f-5aa3-45a5-9c5d-80517d058e25",
   "metadata": {},
   "outputs": [],
   "source": [
    "list[2]=None #convert complex to none"
   ]
  },
  {
   "cell_type": "code",
   "execution_count": 8,
   "id": "0cbe6c5d-b896-436f-988b-537d6e93243a",
   "metadata": {},
   "outputs": [
    {
     "data": {
      "text/plain": [
       "[2.5, 5, None, None, True, 'Prince']"
      ]
     },
     "execution_count": 8,
     "metadata": {},
     "output_type": "execute_result"
    }
   ],
   "source": [
    "list"
   ]
  },
  {
   "cell_type": "code",
   "execution_count": 9,
   "id": "9081e6b6-ce9e-4a9f-b7b7-c2adbb4dbc8b",
   "metadata": {},
   "outputs": [],
   "source": [
    "list[3]=4+7j #convert none to complex"
   ]
  },
  {
   "cell_type": "code",
   "execution_count": 10,
   "id": "26972a64-82da-4940-b1ff-7b3d398abc15",
   "metadata": {},
   "outputs": [
    {
     "data": {
      "text/plain": [
       "[2.5, 5, None, (4+7j), True, 'Prince']"
      ]
     },
     "execution_count": 10,
     "metadata": {},
     "output_type": "execute_result"
    }
   ],
   "source": [
    "list"
   ]
  },
  {
   "cell_type": "code",
   "execution_count": 11,
   "id": "24210573-ff90-4a31-9ab5-c266ee8ca711",
   "metadata": {},
   "outputs": [],
   "source": [
    "list[4]=\"Rahul\" #convert bool to string"
   ]
  },
  {
   "cell_type": "code",
   "execution_count": 12,
   "id": "9b4a0a55-2099-4bff-97b3-22f02dd9066c",
   "metadata": {},
   "outputs": [
    {
     "data": {
      "text/plain": [
       "[2.5, 5, None, (4+7j), 'Rahul', 'Prince']"
      ]
     },
     "execution_count": 12,
     "metadata": {},
     "output_type": "execute_result"
    }
   ],
   "source": [
    "list"
   ]
  },
  {
   "cell_type": "code",
   "execution_count": 13,
   "id": "3953864b-6701-4b1d-bf55-b76783e4a022",
   "metadata": {},
   "outputs": [],
   "source": [
    "list[5]=False #convert string to bool"
   ]
  },
  {
   "cell_type": "code",
   "execution_count": 14,
   "id": "4986548f-fa6e-4f66-a929-7847b6cc89b5",
   "metadata": {},
   "outputs": [
    {
     "data": {
      "text/plain": [
       "[2.5, 5, None, (4+7j), 'Rahul', False]"
      ]
     },
     "execution_count": 14,
     "metadata": {},
     "output_type": "execute_result"
    }
   ],
   "source": [
    "list"
   ]
  },
  {
   "cell_type": "code",
   "execution_count": 19,
   "id": "1ac1b463-2132-475d-9225-d447f6391af7",
   "metadata": {},
   "outputs": [],
   "source": [
    "#2.tuple\n",
    "tuple=(5,5.7,None,7+2j,False,\"Prince\")"
   ]
  },
  {
   "cell_type": "code",
   "execution_count": 20,
   "id": "fbae3e57-f65b-4c8d-a955-124a5cd98c39",
   "metadata": {},
   "outputs": [
    {
     "data": {
      "text/plain": [
       "(5, 5.7, None, (7+2j), False, 'Prince')"
      ]
     },
     "execution_count": 20,
     "metadata": {},
     "output_type": "execute_result"
    }
   ],
   "source": [
    "tuple"
   ]
  },
  {
   "cell_type": "code",
   "execution_count": 24,
   "id": "de895650-76ce-496d-9913-c712f30e46e3",
   "metadata": {},
   "outputs": [
    {
     "ename": "TypeError",
     "evalue": "'tuple' object does not support item assignment",
     "output_type": "error",
     "traceback": [
      "\u001b[31m---------------------------------------------------------------------------\u001b[39m",
      "\u001b[31mTypeError\u001b[39m                                 Traceback (most recent call last)",
      "\u001b[36mCell\u001b[39m\u001b[36m \u001b[39m\u001b[32mIn[24]\u001b[39m\u001b[32m, line 1\u001b[39m\n\u001b[32m----> \u001b[39m\u001b[32m1\u001b[39m \u001b[38;5;28;43mtuple\u001b[39;49m\u001b[43m[\u001b[49m\u001b[32;43m0\u001b[39;49m\u001b[43m]\u001b[49m=\u001b[32m2.5\u001b[39m \u001b[38;5;66;03m#Tuples are immutable, meaning once created, their elements cannot be changed.\u001b[39;00m\n",
      "\u001b[31mTypeError\u001b[39m: 'tuple' object does not support item assignment"
     ]
    }
   ],
   "source": [
    "tuple[0]=2.5 #Tuples are immutable, meaning once created, their elements cannot be changed."
   ]
  },
  {
   "cell_type": "code",
   "execution_count": 2,
   "id": "a6c54cee-099d-4c2c-b339-85c575d3b628",
   "metadata": {},
   "outputs": [],
   "source": [
    "#6 Write a function to demonstrate the behavior of mutable and immutable arguments."
   ]
  },
  {
   "cell_type": "code",
   "execution_count": 5,
   "id": "b799f52f-491d-4906-b021-c21929d37850",
   "metadata": {},
   "outputs": [
    {
     "name": "stdin",
     "output_type": "stream",
     "text": [
      "write a number: 45\n",
      "write a number: 5\n"
     ]
    },
    {
     "data": {
      "text/plain": [
       "50"
      ]
     },
     "execution_count": 5,
     "metadata": {},
     "output_type": "execute_result"
    }
   ],
   "source": [
    "#7 Write a program that performs basic arithmetic operations on two user-input numbers.\n",
    "a = int(input(\"write a number:\"))\n",
    "b = int(input(\"write a number:\"))\n",
    "a+b #addition"
   ]
  },
  {
   "cell_type": "code",
   "execution_count": 6,
   "id": "205f0520-12b6-44f1-8f97-fa2d50a63996",
   "metadata": {},
   "outputs": [
    {
     "name": "stdin",
     "output_type": "stream",
     "text": [
      "write a number: 55\n",
      "write a number: 5\n"
     ]
    },
    {
     "data": {
      "text/plain": [
       "50"
      ]
     },
     "execution_count": 6,
     "metadata": {},
     "output_type": "execute_result"
    }
   ],
   "source": [
    "a = int(input(\"write a number:\"))\n",
    "b = int(input(\"write a number:\"))\n",
    "a-b #subtraction"
   ]
  },
  {
   "cell_type": "code",
   "execution_count": 1,
   "id": "292aad32-f1b3-460e-b119-fb26e51b206a",
   "metadata": {},
   "outputs": [
    {
     "name": "stdin",
     "output_type": "stream",
     "text": [
      "write a number: 12\n",
      "write a number: 5\n"
     ]
    },
    {
     "data": {
      "text/plain": [
       "60"
      ]
     },
     "execution_count": 1,
     "metadata": {},
     "output_type": "execute_result"
    }
   ],
   "source": [
    "a = int(input(\"write a number:\"))\n",
    "b = int(input(\"write a number:\"))\n",
    "a*b #multiplication"
   ]
  },
  {
   "cell_type": "code",
   "execution_count": 2,
   "id": "6c02dfde-e63a-49cf-b085-2e69a80f6f1e",
   "metadata": {},
   "outputs": [
    {
     "name": "stdin",
     "output_type": "stream",
     "text": [
      "write a number: 40\n",
      "write a number: 2\n"
     ]
    },
    {
     "data": {
      "text/plain": [
       "20.0"
      ]
     },
     "execution_count": 2,
     "metadata": {},
     "output_type": "execute_result"
    }
   ],
   "source": [
    "a = int(input(\"write a number:\"))\n",
    "b = int(input(\"write a number:\"))\n",
    "a/b #division"
   ]
  },
  {
   "cell_type": "code",
   "execution_count": 3,
   "id": "ead5a34b-246e-4ad9-9d7a-79b153da84d7",
   "metadata": {},
   "outputs": [
    {
     "name": "stdin",
     "output_type": "stream",
     "text": [
      "write a number: 2\n",
      "write a number: 3\n"
     ]
    },
    {
     "data": {
      "text/plain": [
       "8"
      ]
     },
     "execution_count": 3,
     "metadata": {},
     "output_type": "execute_result"
    }
   ],
   "source": [
    "a = int(input(\"write a number:\"))\n",
    "b = int(input(\"write a number:\"))\n",
    "a**b #exponention"
   ]
  },
  {
   "cell_type": "code",
   "execution_count": 5,
   "id": "923f47d6-3c85-4b9d-a285-93e493127a22",
   "metadata": {},
   "outputs": [
    {
     "name": "stdin",
     "output_type": "stream",
     "text": [
      "write a number: 40\n",
      "write a number: 3\n"
     ]
    },
    {
     "data": {
      "text/plain": [
       "1"
      ]
     },
     "execution_count": 5,
     "metadata": {},
     "output_type": "execute_result"
    }
   ],
   "source": [
    "a = int(input(\"write a number:\"))\n",
    "b = int(input(\"write a number:\"))\n",
    "a%b #modulus"
   ]
  },
  {
   "cell_type": "code",
   "execution_count": 6,
   "id": "246bfb70-b0e6-49ad-97d6-12cc9ece489c",
   "metadata": {},
   "outputs": [
    {
     "data": {
      "text/plain": [
       "True"
      ]
     },
     "execution_count": 6,
     "metadata": {},
     "output_type": "execute_result"
    }
   ],
   "source": [
    "#8 Write a program to demonstrate the use of logical operators.\n",
    "#1 AND operator\n",
    "True & True"
   ]
  },
  {
   "cell_type": "code",
   "execution_count": 7,
   "id": "a1ce37c8-3ac2-4f87-a100-13bc470b38a8",
   "metadata": {},
   "outputs": [
    {
     "data": {
      "text/plain": [
       "False"
      ]
     },
     "execution_count": 7,
     "metadata": {},
     "output_type": "execute_result"
    }
   ],
   "source": [
    "True & False"
   ]
  },
  {
   "cell_type": "code",
   "execution_count": 8,
   "id": "ff2047c0-76f9-4222-9a87-a15dc8bb00a2",
   "metadata": {},
   "outputs": [
    {
     "data": {
      "text/plain": [
       "False"
      ]
     },
     "execution_count": 8,
     "metadata": {},
     "output_type": "execute_result"
    }
   ],
   "source": [
    "False & True"
   ]
  },
  {
   "cell_type": "code",
   "execution_count": 9,
   "id": "25b416b6-054c-4e8b-9952-cd932849bc72",
   "metadata": {},
   "outputs": [
    {
     "data": {
      "text/plain": [
       "False"
      ]
     },
     "execution_count": 9,
     "metadata": {},
     "output_type": "execute_result"
    }
   ],
   "source": [
    "False & False"
   ]
  },
  {
   "cell_type": "code",
   "execution_count": 10,
   "id": "069d2213-2fef-4834-ad7e-21b82d065c60",
   "metadata": {},
   "outputs": [
    {
     "data": {
      "text/plain": [
       "True"
      ]
     },
     "execution_count": 10,
     "metadata": {},
     "output_type": "execute_result"
    }
   ],
   "source": [
    "# OR operators\n",
    "True | True"
   ]
  },
  {
   "cell_type": "code",
   "execution_count": 11,
   "id": "344d5396-5134-4a73-94b9-3c9be4ee5ddb",
   "metadata": {},
   "outputs": [
    {
     "data": {
      "text/plain": [
       "True"
      ]
     },
     "execution_count": 11,
     "metadata": {},
     "output_type": "execute_result"
    }
   ],
   "source": [
    "True | False"
   ]
  },
  {
   "cell_type": "code",
   "execution_count": 12,
   "id": "af0d9570-2d65-4002-a860-ee8681e00a93",
   "metadata": {},
   "outputs": [
    {
     "data": {
      "text/plain": [
       "True"
      ]
     },
     "execution_count": 12,
     "metadata": {},
     "output_type": "execute_result"
    }
   ],
   "source": [
    "False | True"
   ]
  },
  {
   "cell_type": "code",
   "execution_count": 13,
   "id": "4f95084a-e96f-414e-90de-07706745c503",
   "metadata": {},
   "outputs": [
    {
     "data": {
      "text/plain": [
       "False"
      ]
     },
     "execution_count": 13,
     "metadata": {},
     "output_type": "execute_result"
    }
   ],
   "source": [
    "False | False"
   ]
  },
  {
   "cell_type": "code",
   "execution_count": 14,
   "id": "eff97076-b71c-4ba2-9b05-39346e64a9bb",
   "metadata": {},
   "outputs": [
    {
     "data": {
      "text/plain": [
       "False"
      ]
     },
     "execution_count": 14,
     "metadata": {},
     "output_type": "execute_result"
    }
   ],
   "source": [
    "# not operators\n",
    "not True"
   ]
  },
  {
   "cell_type": "code",
   "execution_count": 18,
   "id": "14032f46-ff46-4a6e-ba4d-42a24f07b735",
   "metadata": {},
   "outputs": [
    {
     "data": {
      "text/plain": [
       "True"
      ]
     },
     "execution_count": 18,
     "metadata": {},
     "output_type": "execute_result"
    }
   ],
   "source": [
    "not False"
   ]
  },
  {
   "cell_type": "code",
   "execution_count": 27,
   "id": "b91e534c-b909-4b4c-a019-92e1babb6c88",
   "metadata": {},
   "outputs": [
    {
     "name": "stdin",
     "output_type": "stream",
     "text": [
      "enter value 5\n"
     ]
    },
    {
     "name": "stdout",
     "output_type": "stream",
     "text": [
      "<class 'str'>\n",
      "<class 'int'>\n"
     ]
    }
   ],
   "source": [
    "#9  Write a Python program to convert user input from string to integer, float, and boolean types.\n",
    "#1. string to integer\n",
    "value=input(\"enter value\")\n",
    "print(type(value))\n",
    "print(type(int(value)))"
   ]
  },
  {
   "cell_type": "code",
   "execution_count": 28,
   "id": "d12641b0-35cc-4477-824c-19a23000b775",
   "metadata": {},
   "outputs": [
    {
     "name": "stdin",
     "output_type": "stream",
     "text": [
      "enter value 2.5\n"
     ]
    },
    {
     "name": "stdout",
     "output_type": "stream",
     "text": [
      "<class 'str'>\n",
      "<class 'float'>\n"
     ]
    }
   ],
   "source": [
    "#2. srting to float\n",
    "value=input(\"enter value\")\n",
    "print(type(value))\n",
    "print(type(float(value)))"
   ]
  },
  {
   "cell_type": "code",
   "execution_count": 31,
   "id": "1027ff74-ab23-4abc-8b9e-6c6d552d2d18",
   "metadata": {},
   "outputs": [
    {
     "name": "stdin",
     "output_type": "stream",
     "text": [
      "enter value True\n"
     ]
    },
    {
     "name": "stdout",
     "output_type": "stream",
     "text": [
      "<class 'str'>\n",
      "<class 'bool'>\n"
     ]
    }
   ],
   "source": [
    "#3. string to boolean\n",
    "value=input(\"enter value\")\n",
    "print(type(value))\n",
    "print(type(bool(value)))"
   ]
  },
  {
   "cell_type": "code",
   "execution_count": 11,
   "id": "b6930b09-e228-44d0-b84e-21ee89277263",
   "metadata": {},
   "outputs": [],
   "source": [
    "#10  Write code to demonstrate type casting with list elements.\n",
    "list=[1,2.6,3+4j,None,True,\"Prince\"]"
   ]
  },
  {
   "cell_type": "code",
   "execution_count": 12,
   "id": "dfac75ed-52a9-4681-ba48-a03e2254299b",
   "metadata": {},
   "outputs": [
    {
     "data": {
      "text/plain": [
       "[1, 2.6, (3+4j), None, True, 'Prince']"
      ]
     },
     "execution_count": 12,
     "metadata": {},
     "output_type": "execute_result"
    }
   ],
   "source": [
    "list"
   ]
  },
  {
   "cell_type": "code",
   "execution_count": 14,
   "id": "e5ae1b16-9319-4685-8f92-252b608f61ba",
   "metadata": {},
   "outputs": [
    {
     "data": {
      "text/plain": [
       "3.6"
      ]
     },
     "execution_count": 14,
     "metadata": {},
     "output_type": "execute_result"
    }
   ],
   "source": [
    "#1.implicit type casting\n",
    "list[0]+list[1]"
   ]
  },
  {
   "cell_type": "code",
   "execution_count": 15,
   "id": "351a8bcc-27ff-4e90-8ec7-6c9e36132c63",
   "metadata": {},
   "outputs": [
    {
     "data": {
      "text/plain": [
       "(5.6+4j)"
      ]
     },
     "execution_count": 15,
     "metadata": {},
     "output_type": "execute_result"
    }
   ],
   "source": [
    "list[1]+list[2]"
   ]
  },
  {
   "cell_type": "code",
   "execution_count": 19,
   "id": "e6782119-deee-4dc9-a773-0ede24fc04ea",
   "metadata": {},
   "outputs": [
    {
     "data": {
      "text/plain": [
       "[1, 2.6, (3+4j), None, True, 'Prince']"
      ]
     },
     "execution_count": 19,
     "metadata": {},
     "output_type": "execute_result"
    }
   ],
   "source": [
    "#2 explicit type casting\n",
    "list"
   ]
  },
  {
   "cell_type": "code",
   "execution_count": 25,
   "id": "8bf89eff-53a0-40a4-a64e-ffff6c115b9d",
   "metadata": {},
   "outputs": [
    {
     "data": {
      "text/plain": [
       "float"
      ]
     },
     "execution_count": 25,
     "metadata": {},
     "output_type": "execute_result"
    }
   ],
   "source": [
    "#convert integer to float\n",
    "list[0]=1.2\n",
    "type(list[0])"
   ]
  },
  {
   "cell_type": "code",
   "execution_count": 23,
   "id": "4911cbb8-cbe3-4bc7-8887-3fd681f23043",
   "metadata": {},
   "outputs": [
    {
     "data": {
      "text/plain": [
       "int"
      ]
     },
     "execution_count": 23,
     "metadata": {},
     "output_type": "execute_result"
    }
   ],
   "source": [
    "#convert float to integer\n",
    "list[1]=2\n",
    "type(list[1])"
   ]
  },
  {
   "cell_type": "code",
   "execution_count": 24,
   "id": "4108d20a-7d67-43d7-b8e0-46afe36a2ad1",
   "metadata": {},
   "outputs": [
    {
     "data": {
      "text/plain": [
       "NoneType"
      ]
     },
     "execution_count": 24,
     "metadata": {},
     "output_type": "execute_result"
    }
   ],
   "source": [
    "#convert complex to none \n",
    "list[2]=None\n",
    "type(list[2])"
   ]
  },
  {
   "cell_type": "code",
   "execution_count": 27,
   "id": "8c40e6e1-254c-4cea-a3fc-4b9095ef716c",
   "metadata": {},
   "outputs": [
    {
     "data": {
      "text/plain": [
       "complex"
      ]
     },
     "execution_count": 27,
     "metadata": {},
     "output_type": "execute_result"
    }
   ],
   "source": [
    "#convert none to complex\n",
    "list[3]=4+2j\n",
    "type(list[3])"
   ]
  },
  {
   "cell_type": "code",
   "execution_count": 28,
   "id": "ab268e18-0490-4647-af7c-fc5b183a058c",
   "metadata": {},
   "outputs": [
    {
     "data": {
      "text/plain": [
       "str"
      ]
     },
     "execution_count": 28,
     "metadata": {},
     "output_type": "execute_result"
    }
   ],
   "source": [
    "#convert bool to string\n",
    "list[4]=\"Rahul\"\n",
    "type(list[4])"
   ]
  },
  {
   "cell_type": "code",
   "execution_count": 29,
   "id": "809141cd-f0d4-463d-a089-f39e371b8a61",
   "metadata": {},
   "outputs": [
    {
     "data": {
      "text/plain": [
       "bool"
      ]
     },
     "execution_count": 29,
     "metadata": {},
     "output_type": "execute_result"
    }
   ],
   "source": [
    "#convert string to bool\n",
    "list[5]=False\n",
    "type(list[5])"
   ]
  },
  {
   "cell_type": "code",
   "execution_count": 30,
   "id": "32575ea1-cfc5-4f95-afdb-5a050f5fa2f9",
   "metadata": {},
   "outputs": [
    {
     "data": {
      "text/plain": [
       "[1.2, 2, None, (4+2j), 'Rahul', False]"
      ]
     },
     "execution_count": 30,
     "metadata": {},
     "output_type": "execute_result"
    }
   ],
   "source": [
    "list"
   ]
  },
  {
   "cell_type": "code",
   "execution_count": 32,
   "id": "4be68397-8be0-45a9-b1ce-a874a562f94c",
   "metadata": {},
   "outputs": [
    {
     "name": "stdout",
     "output_type": "stream",
     "text": [
      "number is negative\n"
     ]
    }
   ],
   "source": [
    "#11 Write a program that checks if a number is positive, negative, or zero.\n",
    "num=-1\n",
    "if num < 0:\n",
    "    print(\"number is negative\")\n",
    "elif num == 0:\n",
    "    print(\"number is zero\")\n",
    "else:\n",
    "    print(\"number is positive\")"
   ]
  },
  {
   "cell_type": "code",
   "execution_count": 33,
   "id": "16ef4e24-6692-4cd3-9daf-678f84fddf0f",
   "metadata": {},
   "outputs": [
    {
     "name": "stdout",
     "output_type": "stream",
     "text": [
      "number is zero\n"
     ]
    }
   ],
   "source": [
    "num=0\n",
    "if num < 0:\n",
    "    print(\"number is negative\")\n",
    "elif num == 0:\n",
    "    print(\"number is zero\")\n",
    "else:\n",
    "    print(\"number is positive\")"
   ]
  },
  {
   "cell_type": "code",
   "execution_count": 34,
   "id": "f45bfe6c-a838-4316-9ee5-9545dff30ff5",
   "metadata": {},
   "outputs": [
    {
     "name": "stdout",
     "output_type": "stream",
     "text": [
      "number is positive\n"
     ]
    }
   ],
   "source": [
    "num=5\n",
    "if num < 0:\n",
    "    print(\"number is negative\")\n",
    "elif num == 0:\n",
    "    print(\"number is zero\")\n",
    "else:\n",
    "    print(\"number is positive\")"
   ]
  },
  {
   "cell_type": "code",
   "execution_count": 36,
   "id": "82974434-19ca-44d2-8f2d-df5db6a2c473",
   "metadata": {},
   "outputs": [
    {
     "name": "stdout",
     "output_type": "stream",
     "text": [
      "1\n",
      "2\n",
      "3\n",
      "4\n",
      "5\n",
      "6\n",
      "7\n",
      "8\n",
      "9\n",
      "10\n"
     ]
    }
   ],
   "source": [
    "#12  Write a for loop to print numbers from 1 to 10.\n",
    "for i in range (1,11):\n",
    "    print(i)"
   ]
  },
  {
   "cell_type": "code",
   "execution_count": 37,
   "id": "5502bc91-9674-4236-9ab3-30cd24ec72b2",
   "metadata": {},
   "outputs": [
    {
     "name": "stdout",
     "output_type": "stream",
     "text": [
      "2\n",
      "4\n",
      "6\n",
      "8\n",
      "10\n",
      "12\n",
      "14\n",
      "16\n",
      "18\n",
      "20\n",
      "22\n",
      "24\n",
      "26\n",
      "28\n",
      "30\n",
      "32\n",
      "34\n",
      "36\n",
      "38\n",
      "40\n",
      "42\n",
      "44\n",
      "46\n",
      "48\n",
      "50\n"
     ]
    }
   ],
   "source": [
    "#13  Write a Python program to find the sum of all even numbers between 1 and 50.\n",
    "for i in range(1,51):\n",
    "    if i%2!=0:\n",
    "        continue\n",
    "    print(i)"
   ]
  },
  {
   "cell_type": "code",
   "execution_count": 1,
   "id": "9012993d-5e72-4f99-a2dc-e6ae15eacb85",
   "metadata": {},
   "outputs": [],
   "source": [
    "#14 Write a program to reverse a string using a while loop."
   ]
  },
  {
   "cell_type": "code",
   "execution_count": null,
   "id": "8c63ccf2-4382-42b3-b00e-65bee7dc945d",
   "metadata": {},
   "outputs": [],
   "source": [
    "#15  Write a Python program to calculate the factorial of a number provided by the user using a while loop."
   ]
  }
 ],
 "metadata": {
  "kernelspec": {
   "display_name": "Python 3 (ipykernel)",
   "language": "python",
   "name": "python3"
  },
  "language_info": {
   "codemirror_mode": {
    "name": "ipython",
    "version": 3
   },
   "file_extension": ".py",
   "mimetype": "text/x-python",
   "name": "python",
   "nbconvert_exporter": "python",
   "pygments_lexer": "ipython3",
   "version": "3.13.3"
  }
 },
 "nbformat": 4,
 "nbformat_minor": 5
}
